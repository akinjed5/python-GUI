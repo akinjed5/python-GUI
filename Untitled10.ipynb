{
 "cells": [
  {
   "cell_type": "code",
   "execution_count": null,
   "id": "be0f5273",
   "metadata": {},
   "outputs": [
    {
     "name": "stdout",
     "output_type": "stream",
     "text": [
      "Mr Ido's Baba ijebu\n",
      "You have to guess a nomber between 1 and 10\n",
      " you have 5 tries\n",
      "What is your guess 5\n",
      "you are wrong the number was 2\n",
      "You have to guess a nomber between 1 and 10\n",
      " you have 4 tries\n"
     ]
    }
   ],
   "source": [
    "import math\n",
    "import random\n",
    "print(\"Mr Ido's Baba ijebu\")\n",
    "trial = 5\n",
    "for i in range(5):\n",
    "    print(\"You have to guess a nomber between 1 and 10\\n you have \" + str(trial) + \" tries\")\n",
    "    randomnumber = random.randint(1, 10)\n",
    "    guess = input('What is your guess ')\n",
    "    if guess == randomnumber:\n",
    "        print(\"you are correct\")\n",
    "    else: \n",
    "        print(\"you are wrong the number was \" + str(randomnumber))\n",
    "        trial -= 1\n",
    "print('Omo you no get better head')"
   ]
  },
  {
   "cell_type": "markdown",
   "id": "718f2149",
   "metadata": {},
   "source": []
  },
  {
   "cell_type": "code",
   "execution_count": 1,
   "id": "0ab21867",
   "metadata": {},
   "outputs": [
    {
     "name": "stdout",
     "output_type": "stream",
     "text": [
      "4\n",
      "3\n",
      "1\n",
      "1\n",
      "1\n",
      "Kola, Onyeka, 3\n"
     ]
    }
   ],
   "source": [
    "class Animal:\n",
    "    population = 0\n",
    "    \n",
    "    @classmethod\n",
    "    def census(cls):\n",
    "        return Animal.population\n",
    "    \n",
    "    def __str__(self):\n",
    "        return self.name\n",
    "\n",
    "    def __init__(self, limbs: int, eyes: int=2, name: str='Animal'):\n",
    "        self.name = name\n",
    "        self.limbs = limbs \n",
    "        self.eyes = eyes\n",
    "        Animal.population += 1\n",
    "  \n",
    "    def eat(self, food):\n",
    "        print(f'Animal is eating {food}')\n",
    "        \n",
    "    def reproduce(self, offspring: list):\n",
    "        for i in offspring:\n",
    "            print(i, end=', ')\n",
    "\n",
    "            \n",
    "animal = Animal(3, 4)\n",
    "print(animal.eyes)\n",
    "print(animal.limbs)\n",
    "print(animal.population)\n",
    "#Animal.population = 4\n",
    "print(animal.population)\n",
    "print(Animal.population)\n",
    "\n",
    "baby1 = Animal(4, name='Kola')\n",
    "baby2 = Animal(2, name='Onyeka')\n",
    "pikin = []\n",
    "pikin.append(baby1)\n",
    "pikin.append(baby2)\n",
    "\n",
    "animal.reproduce(pikin)\n",
    "print(Animal.population)\n"
   ]
  },
  {
   "cell_type": "code",
   "execution_count": null,
   "id": "66a2bb83",
   "metadata": {},
   "outputs": [],
   "source": [
    "Animal\n",
    " population\n",
    " census()\n",
    "\n",
    "\tdef init()\n",
    "\t  limbs, eyes\n",
    "\t  \n",
    "   def eat() \n",
    "   def reproduce()\n",
    "\n",
    "\tHuman\n",
    "\t\tfingers, teeth\n",
    "\t\tgive_birth(), cry() \n",
    "\t\t\n",
    "\n",
    "\n",
    "\tBirds\n",
    "\t\tfeathers, beaks, claws, wings\n",
    "\t   fly(), lay_eggs()\n",
    "\n",
    "\n",
    "\n",
    "Concrete:  all methods are implemented/concrete\n",
    "Abstract: at least one method is abstract \n",
    "Interface:  all methods are abstract \n",
    "    \n",
    "    "
   ]
  },
  {
   "cell_type": "code",
   "execution_count": null,
   "id": "51b6fc9f",
   "metadata": {},
   "outputs": [],
   "source": [
    "class Birds:\n",
    "    birdpopulation = 0\n",
    "    \n",
    "    @classmethod\n",
    "    def census(cls):\n",
    "        return bird.birdpopulation\n",
    "    \n",
    "    def __str__(self):\n",
    "        return self.name\n",
    "\n",
    "    def __init__(self, feathers: int, beaks: int=1, claws: int, name: str='Birds'):\n",
    "        self.name = name\n",
    "        self.feathers = feathers \n",
    "        self.beaks = beaks\n",
    "        bird.birdpopulation += 1\n",
    "  \n",
    "    def fly(self, location):\n",
    "        print(f'Animal is flying to {location}')\n",
    "        \n",
    "    def lay(self, offspring: list):\n",
    "        for i in offspring:\n",
    "            print(i, end=', ')"
   ]
  }
 ],
 "metadata": {
  "kernelspec": {
   "display_name": "Python 3",
   "language": "python",
   "name": "python3"
  },
  "language_info": {
   "codemirror_mode": {
    "name": "ipython",
    "version": 3
   },
   "file_extension": ".py",
   "mimetype": "text/x-python",
   "name": "python",
   "nbconvert_exporter": "python",
   "pygments_lexer": "ipython3",
   "version": "3.8.8"
  }
 },
 "nbformat": 4,
 "nbformat_minor": 5
}
